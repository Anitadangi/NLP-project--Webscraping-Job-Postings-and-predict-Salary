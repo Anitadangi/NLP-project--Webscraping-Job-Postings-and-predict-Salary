{
 "cells": [
  {
   "cell_type": "code",
   "execution_count": 95,
   "metadata": {},
   "outputs": [],
   "source": [
    "import pandas as pd\n",
    "import numpy as np\n",
    "\n",
    "import seaborn as sns\n",
    "import matplotlib.pyplot as plt\n",
    "%matplotlib inline\n",
    "\n",
    "\n",
    "from sklearn.preprocessing import MinMaxScaler,StandardScaler\n",
    "from sklearn.model_selection import cross_val_score, train_test_split\n",
    "from sklearn.linear_model import LinearRegression, Ridge, Lasso, ElasticNet, RidgeCV, LassoCV, ElasticNetCV\n",
    "from sklearn.metrics import r2_score, mean_squared_error, accuracy_score, classification_report\n",
    "from sklearn.tree import DecisionTreeClassifier"
   ]
  },
  {
   "cell_type": "code",
   "execution_count": 27,
   "metadata": {},
   "outputs": [],
   "source": [
    "df= pd.read_csv('ready_to_model.csv')"
   ]
  },
  {
   "cell_type": "code",
   "execution_count": 28,
   "metadata": {},
   "outputs": [
    {
     "data": {
      "text/html": [
       "<div>\n",
       "<style scoped>\n",
       "    .dataframe tbody tr th:only-of-type {\n",
       "        vertical-align: middle;\n",
       "    }\n",
       "\n",
       "    .dataframe tbody tr th {\n",
       "        vertical-align: top;\n",
       "    }\n",
       "\n",
       "    .dataframe thead th {\n",
       "        text-align: right;\n",
       "    }\n",
       "</style>\n",
       "<table border=\"1\" class=\"dataframe\">\n",
       "  <thead>\n",
       "    <tr style=\"text-align: right;\">\n",
       "      <th></th>\n",
       "      <th>job_title</th>\n",
       "      <th>location</th>\n",
       "      <th>class</th>\n",
       "      <th>job_type</th>\n",
       "      <th>description</th>\n",
       "      <th>senior_role</th>\n",
       "      <th>pay_type</th>\n",
       "      <th>salary</th>\n",
       "      <th>job_role</th>\n",
       "      <th>pay_rate</th>\n",
       "    </tr>\n",
       "  </thead>\n",
       "  <tbody>\n",
       "    <tr>\n",
       "      <th>0</th>\n",
       "      <td>data scientist | smart cities</td>\n",
       "      <td>Sydney</td>\n",
       "      <td>Science &amp; Healthcare</td>\n",
       "      <td>Contract/Temp</td>\n",
       "      <td>\\r\\r\\r\\r\\r\\r\\r\\r\\r\\nTalenza has been engaged b...</td>\n",
       "      <td>False</td>\n",
       "      <td>daily</td>\n",
       "      <td>262500.0</td>\n",
       "      <td>DS</td>\n",
       "      <td>high</td>\n",
       "    </tr>\n",
       "    <tr>\n",
       "      <th>1</th>\n",
       "      <td>data scientist l machine learning engineer l $...</td>\n",
       "      <td>Sydney</td>\n",
       "      <td>Information &amp; Communication Technology</td>\n",
       "      <td>Full Time</td>\n",
       "      <td>Great team environment/ office space Perman...</td>\n",
       "      <td>False</td>\n",
       "      <td>annual</td>\n",
       "      <td>154999.5</td>\n",
       "      <td>DS</td>\n",
       "      <td>high</td>\n",
       "    </tr>\n",
       "    <tr>\n",
       "      <th>2</th>\n",
       "      <td>data scientist</td>\n",
       "      <td>Melbourne</td>\n",
       "      <td>Information &amp; Communication Technology</td>\n",
       "      <td>Full Time</td>\n",
       "      <td>Data Scientist | Melbourne CBD | Permanent\\r\\r...</td>\n",
       "      <td>False</td>\n",
       "      <td>annual</td>\n",
       "      <td>120000.0</td>\n",
       "      <td>DS</td>\n",
       "      <td>moderate</td>\n",
       "    </tr>\n",
       "    <tr>\n",
       "      <th>3</th>\n",
       "      <td>lead data scientist | python | machine learning</td>\n",
       "      <td>Sydney</td>\n",
       "      <td>Science &amp; Healthcare</td>\n",
       "      <td>Contract/Temp</td>\n",
       "      <td>\\r\\r\\r\\r\\r\\r\\r\\r\\r\\nTalenza has been engaged b...</td>\n",
       "      <td>True</td>\n",
       "      <td>daily</td>\n",
       "      <td>356250.0</td>\n",
       "      <td>SeniorDS</td>\n",
       "      <td>high</td>\n",
       "    </tr>\n",
       "    <tr>\n",
       "      <th>4</th>\n",
       "      <td>data scientist</td>\n",
       "      <td>Sydney</td>\n",
       "      <td>Information &amp; Communication Technology</td>\n",
       "      <td>Contract/Temp</td>\n",
       "      <td>\\r\\r\\r\\r\\r\\r\\r\\r\\r\\n\\r\\r\\r\\r\\r\\r\\r\\r\\r\\n\\r\\r\\r...</td>\n",
       "      <td>False</td>\n",
       "      <td>annual</td>\n",
       "      <td>195227.0</td>\n",
       "      <td>DS</td>\n",
       "      <td>high</td>\n",
       "    </tr>\n",
       "  </tbody>\n",
       "</table>\n",
       "</div>"
      ],
      "text/plain": [
       "                                           job_title   location  \\\n",
       "0                      data scientist | smart cities     Sydney   \n",
       "1  data scientist l machine learning engineer l $...     Sydney   \n",
       "2                                     data scientist  Melbourne   \n",
       "3    lead data scientist | python | machine learning     Sydney   \n",
       "4                                     data scientist     Sydney   \n",
       "\n",
       "                                    class       job_type  \\\n",
       "0                    Science & Healthcare  Contract/Temp   \n",
       "1  Information & Communication Technology      Full Time   \n",
       "2  Information & Communication Technology      Full Time   \n",
       "3                    Science & Healthcare  Contract/Temp   \n",
       "4  Information & Communication Technology  Contract/Temp   \n",
       "\n",
       "                                         description  senior_role pay_type  \\\n",
       "0  \\r\\r\\r\\r\\r\\r\\r\\r\\r\\nTalenza has been engaged b...        False    daily   \n",
       "1     Great team environment/ office space Perman...        False   annual   \n",
       "2  Data Scientist | Melbourne CBD | Permanent\\r\\r...        False   annual   \n",
       "3  \\r\\r\\r\\r\\r\\r\\r\\r\\r\\nTalenza has been engaged b...         True    daily   \n",
       "4  \\r\\r\\r\\r\\r\\r\\r\\r\\r\\n\\r\\r\\r\\r\\r\\r\\r\\r\\r\\n\\r\\r\\r...        False   annual   \n",
       "\n",
       "     salary  job_role  pay_rate  \n",
       "0  262500.0        DS      high  \n",
       "1  154999.5        DS      high  \n",
       "2  120000.0        DS  moderate  \n",
       "3  356250.0  SeniorDS      high  \n",
       "4  195227.0        DS      high  "
      ]
     },
     "execution_count": 28,
     "metadata": {},
     "output_type": "execute_result"
    }
   ],
   "source": [
    "df.head()"
   ]
  },
  {
   "cell_type": "code",
   "execution_count": 4,
   "metadata": {},
   "outputs": [],
   "source": [
    "df.drop(['description', 'senior_role','job_title'], axis=1, inplace=True)"
   ]
  },
  {
   "cell_type": "markdown",
   "metadata": {},
   "source": [
    "### Plots"
   ]
  },
  {
   "cell_type": "code",
   "execution_count": 5,
   "metadata": {},
   "outputs": [
    {
     "data": {
      "text/plain": [
       "<matplotlib.axes._subplots.AxesSubplot at 0x1f20a294208>"
      ]
     },
     "execution_count": 5,
     "metadata": {},
     "output_type": "execute_result"
    },
    {
     "data": {
      "image/png": "[encoded data removed]",
      "text/plain": [
       "<Figure size 432x288 with 1 Axes>"
      ]
     },
     "metadata": {
      "needs_background": "light"
     },
     "output_type": "display_data"
    }
   ],
   "source": [
    "#plt.boxplot('salary','job_role', data=df)\n",
    "plt.plot(figsize=(12,10))\n",
    "sns.boxplot('salary','job_role', data=df)"
   ]
  },
  {
   "cell_type": "code",
   "execution_count": 6,
   "metadata": {},
   "outputs": [
    {
     "data": {
      "text/plain": [
       "Text(0.5, 1.0, 'Salary range for each distinct job title and work type')"
      ]
     },
     "execution_count": 6,
     "metadata": {},
     "output_type": "execute_result"
    },
    {
     "data": {
      "image/png": "[encoded data removed]",
      "text/plain": [
       "<Figure size 432x288 with 1 Axes>"
      ]
     },
     "metadata": {
      "needs_background": "light"
     },
     "output_type": "display_data"
    }
   ],
   "source": [
    "ax= sns.scatterplot('salary','job_role', hue='job_type', data=df)\n",
    "plt.legend(loc='center right')\n",
    "plt.title('Salary range for each distinct job title and work type')"
   ]
  },
  {
   "cell_type": "code",
   "execution_count": 7,
   "metadata": {},
   "outputs": [
    {
     "name": "stdout",
     "output_type": "stream",
     "text": [
      "<class 'pandas.core.frame.DataFrame'>\n",
      "RangeIndex: 669 entries, 0 to 668\n",
      "Data columns (total 7 columns):\n",
      "location    669 non-null object\n",
      "class       669 non-null object\n",
      "job_type    669 non-null object\n",
      "pay_type    669 non-null object\n",
      "salary      669 non-null float64\n",
      "job_role    669 non-null object\n",
      "pay_rate    669 non-null object\n",
      "dtypes: float64(1), object(6)\n",
      "memory usage: 36.7+ KB\n"
     ]
    }
   ],
   "source": [
    "df.info()"
   ]
  },
  {
   "cell_type": "code",
   "execution_count": 48,
   "metadata": {},
   "outputs": [
    {
     "data": {
      "text/plain": [
       "Text(0, 0.5, 'Pay range')"
      ]
     },
     "execution_count": 48,
     "metadata": {},
     "output_type": "execute_result"
    },
    {
     "data": {
      "image/png": "[encoded data removed]",
      "text/plain": [
       "<Figure size 432x288 with 1 Axes>"
      ]
     },
     "metadata": {
      "needs_background": "light"
     },
     "output_type": "display_data"
    }
   ],
   "source": [
    "df.pay_rate.value_counts().plot(kind='barh')\n",
    "plt.xlabel('Number of jobs')\n",
    "plt.ylabel('Pay range')"
   ]
  },
  {
   "cell_type": "code",
   "execution_count": 8,
   "metadata": {},
   "outputs": [
    {
     "data": {
      "text/plain": [
       "<matplotlib.axes._subplots.AxesSubplot at 0x1f20a588eb8>"
      ]
     },
     "execution_count": 8,
     "metadata": {},
     "output_type": "execute_result"
    },
    {
     "data": {
      "image/png": "[encoded data removed]",
      "text/plain": [
       "<Figure size 432x288 with 1 Axes>"
      ]
     },
     "metadata": {
      "needs_background": "light"
     },
     "output_type": "display_data"
    }
   ],
   "source": [
    "df.salary.plot(kind='hist')"
   ]
  },
  {
   "cell_type": "code",
   "execution_count": 9,
   "metadata": {},
   "outputs": [],
   "source": [
    "df['salary'] = np.log(df['salary'])"
   ]
  },
  {
   "cell_type": "code",
   "execution_count": 10,
   "metadata": {},
   "outputs": [
    {
     "data": {
      "text/plain": [
       "<matplotlib.axes._subplots.AxesSubplot at 0x1f20a754f60>"
      ]
     },
     "execution_count": 10,
     "metadata": {},
     "output_type": "execute_result"
    },
    {
     "data": {
      "image/png": "[encoded data removed]",
      "text/plain": [
       "<Figure size 432x288 with 1 Axes>"
      ]
     },
     "metadata": {
      "needs_background": "light"
     },
     "output_type": "display_data"
    }
   ],
   "source": [
    "df.salary.plot(kind='hist')"
   ]
  },
  {
   "cell_type": "markdown",
   "metadata": {},
   "source": [
    "### Get dummies"
   ]
  },
  {
   "cell_type": "code",
   "execution_count": 12,
   "metadata": {},
   "outputs": [],
   "source": [
    "df= pd.get_dummies(df, columns=['location','class','job_type','pay_type','job_role'], drop_first=True)"
   ]
  },
  {
   "cell_type": "code",
   "execution_count": 13,
   "metadata": {},
   "outputs": [
    {
     "data": {
      "text/html": [
       "<div>\n",
       "<style scoped>\n",
       "    .dataframe tbody tr th:only-of-type {\n",
       "        vertical-align: middle;\n",
       "    }\n",
       "\n",
       "    .dataframe tbody tr th {\n",
       "        vertical-align: top;\n",
       "    }\n",
       "\n",
       "    .dataframe thead th {\n",
       "        text-align: right;\n",
       "    }\n",
       "</style>\n",
       "<table border=\"1\" class=\"dataframe\">\n",
       "  <thead>\n",
       "    <tr style=\"text-align: right;\">\n",
       "      <th></th>\n",
       "      <th>salary</th>\n",
       "      <th>pay_rate</th>\n",
       "      <th>location_Adelaide</th>\n",
       "      <th>location_Brisbane</th>\n",
       "      <th>location_Gosford &amp; Central Coast</th>\n",
       "      <th>location_Hobart</th>\n",
       "      <th>location_Melbourne</th>\n",
       "      <th>location_Perth</th>\n",
       "      <th>location_South West Coast VIC</th>\n",
       "      <th>location_Sydney</th>\n",
       "      <th>...</th>\n",
       "      <th>job_type_Full Time</th>\n",
       "      <th>pay_type_daily</th>\n",
       "      <th>pay_type_hourly</th>\n",
       "      <th>job_role_DA</th>\n",
       "      <th>job_role_DS</th>\n",
       "      <th>job_role_SBI</th>\n",
       "      <th>job_role_SDA</th>\n",
       "      <th>job_role_SeniorDS</th>\n",
       "      <th>job_role_consultant</th>\n",
       "      <th>job_role_dataengineer</th>\n",
       "    </tr>\n",
       "  </thead>\n",
       "  <tbody>\n",
       "    <tr>\n",
       "      <th>0</th>\n",
       "      <td>12.478006</td>\n",
       "      <td>high</td>\n",
       "      <td>0</td>\n",
       "      <td>0</td>\n",
       "      <td>0</td>\n",
       "      <td>0</td>\n",
       "      <td>0</td>\n",
       "      <td>0</td>\n",
       "      <td>0</td>\n",
       "      <td>1</td>\n",
       "      <td>...</td>\n",
       "      <td>0</td>\n",
       "      <td>1</td>\n",
       "      <td>0</td>\n",
       "      <td>0</td>\n",
       "      <td>1</td>\n",
       "      <td>0</td>\n",
       "      <td>0</td>\n",
       "      <td>0</td>\n",
       "      <td>0</td>\n",
       "      <td>0</td>\n",
       "    </tr>\n",
       "    <tr>\n",
       "      <th>1</th>\n",
       "      <td>11.951177</td>\n",
       "      <td>high</td>\n",
       "      <td>0</td>\n",
       "      <td>0</td>\n",
       "      <td>0</td>\n",
       "      <td>0</td>\n",
       "      <td>0</td>\n",
       "      <td>0</td>\n",
       "      <td>0</td>\n",
       "      <td>1</td>\n",
       "      <td>...</td>\n",
       "      <td>1</td>\n",
       "      <td>0</td>\n",
       "      <td>0</td>\n",
       "      <td>0</td>\n",
       "      <td>1</td>\n",
       "      <td>0</td>\n",
       "      <td>0</td>\n",
       "      <td>0</td>\n",
       "      <td>0</td>\n",
       "      <td>0</td>\n",
       "    </tr>\n",
       "  </tbody>\n",
       "</table>\n",
       "<p>2 rows × 24 columns</p>\n",
       "</div>"
      ],
      "text/plain": [
       "      salary pay_rate  location_Adelaide  location_Brisbane  \\\n",
       "0  12.478006     high                  0                  0   \n",
       "1  11.951177     high                  0                  0   \n",
       "\n",
       "   location_Gosford & Central Coast  location_Hobart  location_Melbourne  \\\n",
       "0                                 0                0                   0   \n",
       "1                                 0                0                   0   \n",
       "\n",
       "   location_Perth  location_South West Coast VIC  location_Sydney  \\\n",
       "0               0                              0                1   \n",
       "1               0                              0                1   \n",
       "\n",
       "           ...            job_type_Full Time  pay_type_daily  pay_type_hourly  \\\n",
       "0          ...                             0               1                0   \n",
       "1          ...                             1               0                0   \n",
       "\n",
       "   job_role_DA  job_role_DS  job_role_SBI  job_role_SDA  job_role_SeniorDS  \\\n",
       "0            0            1             0             0                  0   \n",
       "1            0            1             0             0                  0   \n",
       "\n",
       "   job_role_consultant  job_role_dataengineer  \n",
       "0                    0                      0  \n",
       "1                    0                      0  \n",
       "\n",
       "[2 rows x 24 columns]"
      ]
     },
     "execution_count": 13,
     "metadata": {},
     "output_type": "execute_result"
    }
   ],
   "source": [
    "df.head(2)"
   ]
  },
  {
   "cell_type": "code",
   "execution_count": 14,
   "metadata": {},
   "outputs": [
    {
     "data": {
      "text/plain": [
       "(669, 24)"
      ]
     },
     "execution_count": 14,
     "metadata": {},
     "output_type": "execute_result"
    }
   ],
   "source": [
    "df.shape"
   ]
  },
  {
   "cell_type": "markdown",
   "metadata": {},
   "source": [
    "### Define X and Y"
   ]
  },
  {
   "cell_type": "code",
   "execution_count": 15,
   "metadata": {},
   "outputs": [],
   "source": [
    "X = df.drop(['salary', 'pay_rate'], axis=1)"
   ]
  },
  {
   "cell_type": "code",
   "execution_count": 16,
   "metadata": {},
   "outputs": [
    {
     "data": {
      "text/plain": [
       "(669, 22)"
      ]
     },
     "execution_count": 16,
     "metadata": {},
     "output_type": "execute_result"
    }
   ],
   "source": [
    "X.shape"
   ]
  },
  {
   "cell_type": "code",
   "execution_count": 17,
   "metadata": {},
   "outputs": [
    {
     "data": {
      "text/plain": [
       "(669,)"
      ]
     },
     "execution_count": 17,
     "metadata": {},
     "output_type": "execute_result"
    }
   ],
   "source": [
    "y= df.salary.values\n",
    "y.shape"
   ]
  },
  {
   "cell_type": "code",
   "execution_count": 18,
   "metadata": {
    "scrolled": true
   },
   "outputs": [
    {
     "name": "stderr",
     "output_type": "stream",
     "text": [
      "C:\\Users\\anita\\Anaconda3\\lib\\site-packages\\sklearn\\preprocessing\\data.py:625: DataConversionWarning: Data with input dtype uint8 were all converted to float64 by StandardScaler.\n",
      "  return self.partial_fit(X, y)\n",
      "C:\\Users\\anita\\Anaconda3\\lib\\site-packages\\sklearn\\base.py:462: DataConversionWarning: Data with input dtype uint8 were all converted to float64 by StandardScaler.\n",
      "  return self.fit(X, **fit_params).transform(X)\n"
     ]
    }
   ],
   "source": [
    "ss= StandardScaler()\n",
    "\n",
    "Xs = ss.fit_transform(X)"
   ]
  },
  {
   "cell_type": "markdown",
   "metadata": {},
   "source": [
    "### Train test split"
   ]
  },
  {
   "cell_type": "code",
   "execution_count": 19,
   "metadata": {},
   "outputs": [],
   "source": [
    "X_train, X_test, y_train, y_test = train_test_split(Xs, y, test_size= 0.25, random_state=42)"
   ]
  },
  {
   "cell_type": "markdown",
   "metadata": {},
   "source": [
    "### 1.) Linear Regression model"
   ]
  },
  {
   "cell_type": "code",
   "execution_count": 20,
   "metadata": {},
   "outputs": [
    {
     "data": {
      "text/plain": [
       "LinearRegression(copy_X=True, fit_intercept=True, n_jobs=None,\n",
       "         normalize=False)"
      ]
     },
     "execution_count": 20,
     "metadata": {},
     "output_type": "execute_result"
    }
   ],
   "source": [
    "lr = LinearRegression()\n",
    "\n",
    "lr.fit(X_train, y_train)"
   ]
  },
  {
   "cell_type": "code",
   "execution_count": 21,
   "metadata": {},
   "outputs": [],
   "source": [
    "prediction = lr.predict(X_test)"
   ]
  },
  {
   "cell_type": "code",
   "execution_count": 22,
   "metadata": {},
   "outputs": [
    {
     "name": "stdout",
     "output_type": "stream",
     "text": [
      "Mulitple Linear regression model score is: 0.6311625193807437\n",
      "MLR MSE is: 0.02236237158036956\n"
     ]
    }
   ],
   "source": [
    "score = r2_score(y_test, prediction)\n",
    "error = mean_squared_error(y_test, prediction)\n",
    "print('Mulitple Linear regression model score is:',score),\n",
    "print('MLR MSE is:', error)"
   ]
  },
  {
   "cell_type": "markdown",
   "metadata": {},
   "source": [
    "### 2.) Ridge\n",
    "#### finding optimal alpha value"
   ]
  },
  {
   "cell_type": "code",
   "execution_count": 26,
   "metadata": {},
   "outputs": [
    {
     "name": "stdout",
     "output_type": "stream",
     "text": [
      "2.8330961018393244\n"
     ]
    }
   ],
   "source": [
    "ridge_alphas = np.logspace(0, 5, 200)\n",
    "\n",
    "optimal_ridge = RidgeCV(alphas=ridge_alphas, cv=10)\n",
    "optimal_ridge.fit(X_train, y_train)\n",
    "\n",
    "print(optimal_ridge.alpha_)"
   ]
  },
  {
   "cell_type": "code",
   "execution_count": 27,
   "metadata": {},
   "outputs": [
    {
     "data": {
      "text/plain": [
       "Ridge(alpha=2.8330961018393244, copy_X=True, fit_intercept=True,\n",
       "   max_iter=None, normalize=False, random_state=None, solver='auto',\n",
       "   tol=0.001)"
      ]
     },
     "execution_count": 27,
     "metadata": {},
     "output_type": "execute_result"
    }
   ],
   "source": [
    "ridge = Ridge(alpha=optimal_ridge.alpha_)\n",
    "\n",
    "ridge.fit(X_train, y_train)\n",
    "#ridge_scores = cross_val_score(ridge, Xs, y, cv=10)\n",
    "#print(ridge_scores)\n",
    "#print(np.mean(ridge_scores))"
   ]
  },
  {
   "cell_type": "code",
   "execution_count": 28,
   "metadata": {},
   "outputs": [],
   "source": [
    " pred1 =ridge.predict(X_test)"
   ]
  },
  {
   "cell_type": "code",
   "execution_count": 29,
   "metadata": {},
   "outputs": [
    {
     "name": "stdout",
     "output_type": "stream",
     "text": [
      "0.6321560834717895\n",
      "0.022302132449152273\n"
     ]
    }
   ],
   "source": [
    "print('Ridge R-squared score is:',r2_score(y_test, pred1))\n",
    "print('Ridge RMSE score is:',mean_squared_error(y_test, pred1))"
   ]
  },
  {
   "cell_type": "markdown",
   "metadata": {},
   "source": [
    "### 3.) Lasso\n",
    "Starting with finding optimal alpha for lasso regularisation"
   ]
  },
  {
   "cell_type": "code",
   "execution_count": 30,
   "metadata": {},
   "outputs": [
    {
     "name": "stdout",
     "output_type": "stream",
     "text": [
      "0.000391360173595815\n"
     ]
    }
   ],
   "source": [
    "optimal_lasso = LassoCV(n_alphas=500, cv=10)\n",
    "optimal_lasso.fit(X_train, y_train)\n",
    "\n",
    "print(optimal_lasso.alpha_)"
   ]
  },
  {
   "cell_type": "code",
   "execution_count": 31,
   "metadata": {},
   "outputs": [
    {
     "data": {
      "text/plain": [
       "Lasso(alpha=0.000391360173595815, copy_X=True, fit_intercept=True,\n",
       "   max_iter=1000, normalize=False, positive=False, precompute=False,\n",
       "   random_state=None, selection='cyclic', tol=0.0001, warm_start=False)"
      ]
     },
     "execution_count": 31,
     "metadata": {},
     "output_type": "execute_result"
    }
   ],
   "source": [
    "lasso = Lasso(alpha=optimal_lasso.alpha_)\n",
    "\n",
    "lasso.fit(X_train, y_train)"
   ]
  },
  {
   "cell_type": "code",
   "execution_count": 32,
   "metadata": {},
   "outputs": [],
   "source": [
    "pred_lasso = lasso.predict(X_test)"
   ]
  },
  {
   "cell_type": "code",
   "execution_count": 57,
   "metadata": {},
   "outputs": [
    {
     "name": "stdout",
     "output_type": "stream",
     "text": [
      "0.6339710486562372\n",
      "0.022192092314966588\n"
     ]
    }
   ],
   "source": [
    "print('Lasso R-sqaured score is:',r2_score(y_test, pred_lasso))\n",
    "print('Lasso RMSE is:', mean_squared_error(y_test, pred_lasso))"
   ]
  },
  {
   "cell_type": "markdown",
   "metadata": {},
   "source": [
    "###  Top coefficients"
   ]
  },
  {
   "cell_type": "code",
   "execution_count": 33,
   "metadata": {},
   "outputs": [],
   "source": [
    "coefs = pd.DataFrame({'variable':X.columns,\n",
    "                      'coef': lasso.coef_})"
   ]
  },
  {
   "cell_type": "code",
   "execution_count": 34,
   "metadata": {},
   "outputs": [
    {
     "data": {
      "text/html": [
       "<div>\n",
       "<style scoped>\n",
       "    .dataframe tbody tr th:only-of-type {\n",
       "        vertical-align: middle;\n",
       "    }\n",
       "\n",
       "    .dataframe tbody tr th {\n",
       "        vertical-align: top;\n",
       "    }\n",
       "\n",
       "    .dataframe thead th {\n",
       "        text-align: right;\n",
       "    }\n",
       "</style>\n",
       "<table border=\"1\" class=\"dataframe\">\n",
       "  <thead>\n",
       "    <tr style=\"text-align: right;\">\n",
       "      <th></th>\n",
       "      <th>variable</th>\n",
       "      <th>coef</th>\n",
       "    </tr>\n",
       "  </thead>\n",
       "  <tbody>\n",
       "    <tr>\n",
       "      <th>19</th>\n",
       "      <td>job_role_SeniorDS</td>\n",
       "      <td>0.136322</td>\n",
       "    </tr>\n",
       "    <tr>\n",
       "      <th>20</th>\n",
       "      <td>job_role_consultant</td>\n",
       "      <td>0.125163</td>\n",
       "    </tr>\n",
       "    <tr>\n",
       "      <th>17</th>\n",
       "      <td>job_role_SBI</td>\n",
       "      <td>0.121602</td>\n",
       "    </tr>\n",
       "    <tr>\n",
       "      <th>16</th>\n",
       "      <td>job_role_DS</td>\n",
       "      <td>0.099744</td>\n",
       "    </tr>\n",
       "    <tr>\n",
       "      <th>21</th>\n",
       "      <td>job_role_dataengineer</td>\n",
       "      <td>0.096778</td>\n",
       "    </tr>\n",
       "    <tr>\n",
       "      <th>18</th>\n",
       "      <td>job_role_SDA</td>\n",
       "      <td>0.089724</td>\n",
       "    </tr>\n",
       "    <tr>\n",
       "      <th>13</th>\n",
       "      <td>pay_type_daily</td>\n",
       "      <td>0.045564</td>\n",
       "    </tr>\n",
       "    <tr>\n",
       "      <th>15</th>\n",
       "      <td>job_role_DA</td>\n",
       "      <td>0.015178</td>\n",
       "    </tr>\n",
       "    <tr>\n",
       "      <th>3</th>\n",
       "      <td>location_Hobart</td>\n",
       "      <td>0.001560</td>\n",
       "    </tr>\n",
       "    <tr>\n",
       "      <th>6</th>\n",
       "      <td>location_South West Coast VIC</td>\n",
       "      <td>0.000992</td>\n",
       "    </tr>\n",
       "  </tbody>\n",
       "</table>\n",
       "</div>"
      ],
      "text/plain": [
       "                         variable      coef\n",
       "19              job_role_SeniorDS  0.136322\n",
       "20            job_role_consultant  0.125163\n",
       "17                   job_role_SBI  0.121602\n",
       "16                    job_role_DS  0.099744\n",
       "21          job_role_dataengineer  0.096778\n",
       "18                   job_role_SDA  0.089724\n",
       "13                 pay_type_daily  0.045564\n",
       "15                    job_role_DA  0.015178\n",
       "3                 location_Hobart  0.001560\n",
       "6   location_South West Coast VIC  0.000992"
      ]
     },
     "execution_count": 34,
     "metadata": {},
     "output_type": "execute_result"
    }
   ],
   "source": [
    "coefs.sort_values(by = 'coef', inplace=True, ascending=False)\n",
    "coefs.head(10)"
   ]
  },
  {
   "cell_type": "markdown",
   "metadata": {},
   "source": [
    "### Plots"
   ]
  },
  {
   "cell_type": "code",
   "execution_count": 35,
   "metadata": {},
   "outputs": [
    {
     "name": "stderr",
     "output_type": "stream",
     "text": [
      "C:\\Users\\anita\\Anaconda3\\lib\\site-packages\\scipy\\stats\\stats.py:1713: FutureWarning: Using a non-tuple sequence for multidimensional indexing is deprecated; use `arr[tuple(seq)]` instead of `arr[seq]`. In the future this will be interpreted as an array index, `arr[np.array(seq)]`, which will result either in an error or a different result.\n",
      "  return np.add.reduce(sorted[indexer] * weights, axis=axis) / sumval\n"
     ]
    },
    {
     "data": {
      "text/plain": [
       "<matplotlib.axes._subplots.AxesSubplot at 0x26629552a20>"
      ]
     },
     "execution_count": 35,
     "metadata": {},
     "output_type": "execute_result"
    },
    {
     "data": {
      "image/png": "[encoded data removed]",
      "text/plain": [
       "<Figure size 432x288 with 1 Axes>"
      ]
     },
     "metadata": {
      "needs_background": "light"
     },
     "output_type": "display_data"
    }
   ],
   "source": [
    "sns.regplot(y_test, pred_lasso, data=df)"
   ]
  },
  {
   "cell_type": "code",
   "execution_count": 36,
   "metadata": {},
   "outputs": [
    {
     "data": {
      "text/plain": [
       "<matplotlib.axes._subplots.AxesSubplot at 0x266292d52e8>"
      ]
     },
     "execution_count": 36,
     "metadata": {},
     "output_type": "execute_result"
    },
    {
     "data": {
      "image/png": "[encoded data removed]",
      "text/plain": [
       "<Figure size 432x288 with 1 Axes>"
      ]
     },
     "metadata": {
      "needs_background": "light"
     },
     "output_type": "display_data"
    }
   ],
   "source": [
    "sns.regplot(y_test, pred1, data=df)"
   ]
  },
  {
   "cell_type": "markdown",
   "metadata": {},
   "source": [
    "### Classification model to predict salary class"
   ]
  },
  {
   "cell_type": "code",
   "execution_count": 49,
   "metadata": {
    "collapsed": true
   },
   "outputs": [
    {
     "data": {
      "text/html": [
       "<div>\n",
       "<style scoped>\n",
       "    .dataframe tbody tr th:only-of-type {\n",
       "        vertical-align: middle;\n",
       "    }\n",
       "\n",
       "    .dataframe tbody tr th {\n",
       "        vertical-align: top;\n",
       "    }\n",
       "\n",
       "    .dataframe thead th {\n",
       "        text-align: right;\n",
       "    }\n",
       "</style>\n",
       "<table border=\"1\" class=\"dataframe\">\n",
       "  <thead>\n",
       "    <tr style=\"text-align: right;\">\n",
       "      <th></th>\n",
       "      <th>job_title</th>\n",
       "      <th>location</th>\n",
       "      <th>class</th>\n",
       "      <th>job_type</th>\n",
       "      <th>description</th>\n",
       "      <th>senior_role</th>\n",
       "      <th>pay_type</th>\n",
       "      <th>salary</th>\n",
       "      <th>job_role</th>\n",
       "      <th>pay_rate</th>\n",
       "    </tr>\n",
       "  </thead>\n",
       "  <tbody>\n",
       "    <tr>\n",
       "      <th>0</th>\n",
       "      <td>data scientist | smart cities</td>\n",
       "      <td>Sydney</td>\n",
       "      <td>Science &amp; Healthcare</td>\n",
       "      <td>Contract/Temp</td>\n",
       "      <td>\\r\\r\\r\\r\\r\\r\\r\\r\\r\\nTalenza has been engaged b...</td>\n",
       "      <td>False</td>\n",
       "      <td>daily</td>\n",
       "      <td>262500.0</td>\n",
       "      <td>DS</td>\n",
       "      <td>high</td>\n",
       "    </tr>\n",
       "    <tr>\n",
       "      <th>1</th>\n",
       "      <td>data scientist l machine learning engineer l $...</td>\n",
       "      <td>Sydney</td>\n",
       "      <td>Information &amp; Communication Technology</td>\n",
       "      <td>Full Time</td>\n",
       "      <td>Great team environment/ office space Perman...</td>\n",
       "      <td>False</td>\n",
       "      <td>annual</td>\n",
       "      <td>154999.5</td>\n",
       "      <td>DS</td>\n",
       "      <td>high</td>\n",
       "    </tr>\n",
       "    <tr>\n",
       "      <th>2</th>\n",
       "      <td>data scientist</td>\n",
       "      <td>Melbourne</td>\n",
       "      <td>Information &amp; Communication Technology</td>\n",
       "      <td>Full Time</td>\n",
       "      <td>Data Scientist | Melbourne CBD | Permanent\\r\\r...</td>\n",
       "      <td>False</td>\n",
       "      <td>annual</td>\n",
       "      <td>120000.0</td>\n",
       "      <td>DS</td>\n",
       "      <td>moderate</td>\n",
       "    </tr>\n",
       "    <tr>\n",
       "      <th>3</th>\n",
       "      <td>lead data scientist | python | machine learning</td>\n",
       "      <td>Sydney</td>\n",
       "      <td>Science &amp; Healthcare</td>\n",
       "      <td>Contract/Temp</td>\n",
       "      <td>\\r\\r\\r\\r\\r\\r\\r\\r\\r\\nTalenza has been engaged b...</td>\n",
       "      <td>True</td>\n",
       "      <td>daily</td>\n",
       "      <td>356250.0</td>\n",
       "      <td>SeniorDS</td>\n",
       "      <td>high</td>\n",
       "    </tr>\n",
       "    <tr>\n",
       "      <th>4</th>\n",
       "      <td>data scientist</td>\n",
       "      <td>Sydney</td>\n",
       "      <td>Information &amp; Communication Technology</td>\n",
       "      <td>Contract/Temp</td>\n",
       "      <td>\\r\\r\\r\\r\\r\\r\\r\\r\\r\\n\\r\\r\\r\\r\\r\\r\\r\\r\\r\\n\\r\\r\\r...</td>\n",
       "      <td>False</td>\n",
       "      <td>annual</td>\n",
       "      <td>195227.0</td>\n",
       "      <td>DS</td>\n",
       "      <td>high</td>\n",
       "    </tr>\n",
       "  </tbody>\n",
       "</table>\n",
       "</div>"
      ],
      "text/plain": [
       "                                           job_title   location  \\\n",
       "0                      data scientist | smart cities     Sydney   \n",
       "1  data scientist l machine learning engineer l $...     Sydney   \n",
       "2                                     data scientist  Melbourne   \n",
       "3    lead data scientist | python | machine learning     Sydney   \n",
       "4                                     data scientist     Sydney   \n",
       "\n",
       "                                    class       job_type  \\\n",
       "0                    Science & Healthcare  Contract/Temp   \n",
       "1  Information & Communication Technology      Full Time   \n",
       "2  Information & Communication Technology      Full Time   \n",
       "3                    Science & Healthcare  Contract/Temp   \n",
       "4  Information & Communication Technology  Contract/Temp   \n",
       "\n",
       "                                         description  senior_role pay_type  \\\n",
       "0  \\r\\r\\r\\r\\r\\r\\r\\r\\r\\nTalenza has been engaged b...        False    daily   \n",
       "1     Great team environment/ office space Perman...        False   annual   \n",
       "2  Data Scientist | Melbourne CBD | Permanent\\r\\r...        False   annual   \n",
       "3  \\r\\r\\r\\r\\r\\r\\r\\r\\r\\nTalenza has been engaged b...         True    daily   \n",
       "4  \\r\\r\\r\\r\\r\\r\\r\\r\\r\\n\\r\\r\\r\\r\\r\\r\\r\\r\\r\\n\\r\\r\\r...        False   annual   \n",
       "\n",
       "     salary  job_role  pay_rate  \n",
       "0  262500.0        DS      high  \n",
       "1  154999.5        DS      high  \n",
       "2  120000.0        DS  moderate  \n",
       "3  356250.0  SeniorDS      high  \n",
       "4  195227.0        DS      high  "
      ]
     },
     "execution_count": 49,
     "metadata": {},
     "output_type": "execute_result"
    }
   ],
   "source": [
    "df.head()"
   ]
  },
  {
   "cell_type": "code",
   "execution_count": 50,
   "metadata": {},
   "outputs": [],
   "source": [
    "df= pd.get_dummies(df, columns=['location','class','job_type','pay_type','job_role'], drop_first=True)"
   ]
  },
  {
   "cell_type": "code",
   "execution_count": 51,
   "metadata": {},
   "outputs": [
    {
     "data": {
      "text/html": [
       "<div>\n",
       "<style scoped>\n",
       "    .dataframe tbody tr th:only-of-type {\n",
       "        vertical-align: middle;\n",
       "    }\n",
       "\n",
       "    .dataframe tbody tr th {\n",
       "        vertical-align: top;\n",
       "    }\n",
       "\n",
       "    .dataframe thead th {\n",
       "        text-align: right;\n",
       "    }\n",
       "</style>\n",
       "<table border=\"1\" class=\"dataframe\">\n",
       "  <thead>\n",
       "    <tr style=\"text-align: right;\">\n",
       "      <th></th>\n",
       "      <th>job_title</th>\n",
       "      <th>description</th>\n",
       "      <th>senior_role</th>\n",
       "      <th>salary</th>\n",
       "      <th>pay_rate</th>\n",
       "      <th>location_Adelaide</th>\n",
       "      <th>location_Brisbane</th>\n",
       "      <th>location_Gosford &amp; Central Coast</th>\n",
       "      <th>location_Hobart</th>\n",
       "      <th>location_Melbourne</th>\n",
       "      <th>...</th>\n",
       "      <th>job_type_Full Time</th>\n",
       "      <th>pay_type_daily</th>\n",
       "      <th>pay_type_hourly</th>\n",
       "      <th>job_role_DA</th>\n",
       "      <th>job_role_DS</th>\n",
       "      <th>job_role_SBI</th>\n",
       "      <th>job_role_SDA</th>\n",
       "      <th>job_role_SeniorDS</th>\n",
       "      <th>job_role_consultant</th>\n",
       "      <th>job_role_dataengineer</th>\n",
       "    </tr>\n",
       "  </thead>\n",
       "  <tbody>\n",
       "    <tr>\n",
       "      <th>0</th>\n",
       "      <td>data scientist | smart cities</td>\n",
       "      <td>\\r\\r\\r\\r\\r\\r\\r\\r\\r\\nTalenza has been engaged b...</td>\n",
       "      <td>False</td>\n",
       "      <td>262500.0</td>\n",
       "      <td>high</td>\n",
       "      <td>0</td>\n",
       "      <td>0</td>\n",
       "      <td>0</td>\n",
       "      <td>0</td>\n",
       "      <td>0</td>\n",
       "      <td>...</td>\n",
       "      <td>0</td>\n",
       "      <td>1</td>\n",
       "      <td>0</td>\n",
       "      <td>0</td>\n",
       "      <td>1</td>\n",
       "      <td>0</td>\n",
       "      <td>0</td>\n",
       "      <td>0</td>\n",
       "      <td>0</td>\n",
       "      <td>0</td>\n",
       "    </tr>\n",
       "    <tr>\n",
       "      <th>1</th>\n",
       "      <td>data scientist l machine learning engineer l $...</td>\n",
       "      <td>Great team environment/ office space Perman...</td>\n",
       "      <td>False</td>\n",
       "      <td>154999.5</td>\n",
       "      <td>high</td>\n",
       "      <td>0</td>\n",
       "      <td>0</td>\n",
       "      <td>0</td>\n",
       "      <td>0</td>\n",
       "      <td>0</td>\n",
       "      <td>...</td>\n",
       "      <td>1</td>\n",
       "      <td>0</td>\n",
       "      <td>0</td>\n",
       "      <td>0</td>\n",
       "      <td>1</td>\n",
       "      <td>0</td>\n",
       "      <td>0</td>\n",
       "      <td>0</td>\n",
       "      <td>0</td>\n",
       "      <td>0</td>\n",
       "    </tr>\n",
       "  </tbody>\n",
       "</table>\n",
       "<p>2 rows × 27 columns</p>\n",
       "</div>"
      ],
      "text/plain": [
       "                                           job_title  \\\n",
       "0                      data scientist | smart cities   \n",
       "1  data scientist l machine learning engineer l $...   \n",
       "\n",
       "                                         description  senior_role    salary  \\\n",
       "0  \\r\\r\\r\\r\\r\\r\\r\\r\\r\\nTalenza has been engaged b...        False  262500.0   \n",
       "1     Great team environment/ office space Perman...        False  154999.5   \n",
       "\n",
       "  pay_rate  location_Adelaide  location_Brisbane  \\\n",
       "0     high                  0                  0   \n",
       "1     high                  0                  0   \n",
       "\n",
       "   location_Gosford & Central Coast  location_Hobart  location_Melbourne  \\\n",
       "0                                 0                0                   0   \n",
       "1                                 0                0                   0   \n",
       "\n",
       "           ...            job_type_Full Time  pay_type_daily  pay_type_hourly  \\\n",
       "0          ...                             0               1                0   \n",
       "1          ...                             1               0                0   \n",
       "\n",
       "   job_role_DA  job_role_DS  job_role_SBI  job_role_SDA  job_role_SeniorDS  \\\n",
       "0            0            1             0             0                  0   \n",
       "1            0            1             0             0                  0   \n",
       "\n",
       "   job_role_consultant  job_role_dataengineer  \n",
       "0                    0                      0  \n",
       "1                    0                      0  \n",
       "\n",
       "[2 rows x 27 columns]"
      ]
     },
     "execution_count": 51,
     "metadata": {},
     "output_type": "execute_result"
    }
   ],
   "source": [
    "df.head(2)"
   ]
  },
  {
   "cell_type": "code",
   "execution_count": 56,
   "metadata": {},
   "outputs": [],
   "source": [
    "X= df.drop(['salary','pay_rate','job_title','description','senior_role'], axis=1)"
   ]
  },
  {
   "cell_type": "code",
   "execution_count": 57,
   "metadata": {},
   "outputs": [],
   "source": [
    "y= df.pay_rate"
   ]
  },
  {
   "cell_type": "code",
   "execution_count": 58,
   "metadata": {},
   "outputs": [
    {
     "data": {
      "text/plain": [
       "high        0.467862\n",
       "moderate    0.449925\n",
       "low         0.082212\n",
       "Name: pay_rate, dtype: float64"
      ]
     },
     "execution_count": 58,
     "metadata": {},
     "output_type": "execute_result"
    }
   ],
   "source": [
    "#baseline\n",
    "y.value_counts()/sum(y.value_counts())"
   ]
  },
  {
   "cell_type": "markdown",
   "metadata": {},
   "source": [
    "### K nearest neighbors"
   ]
  },
  {
   "cell_type": "code",
   "execution_count": 59,
   "metadata": {},
   "outputs": [
    {
     "name": "stderr",
     "output_type": "stream",
     "text": [
      "C:\\Users\\anita\\Anaconda3\\lib\\site-packages\\sklearn\\preprocessing\\data.py:625: DataConversionWarning: Data with input dtype uint8 were all converted to float64 by StandardScaler.\n",
      "  return self.partial_fit(X, y)\n",
      "C:\\Users\\anita\\Anaconda3\\lib\\site-packages\\sklearn\\base.py:462: DataConversionWarning: Data with input dtype uint8 were all converted to float64 by StandardScaler.\n",
      "  return self.fit(X, **fit_params).transform(X)\n"
     ]
    }
   ],
   "source": [
    "from sklearn.neighbors import KNeighborsClassifier\n",
    "ss = StandardScaler()\n",
    "Xs = ss.fit_transform(X)"
   ]
  },
  {
   "cell_type": "code",
   "execution_count": 60,
   "metadata": {},
   "outputs": [],
   "source": [
    "knn = KNeighborsClassifier(n_neighbors=3)"
   ]
  },
  {
   "cell_type": "code",
   "execution_count": 71,
   "metadata": {},
   "outputs": [],
   "source": [
    "X_train, X_test, y_train, y_test = train_test_split(Xs, y, test_size=0.25, random_state=42)"
   ]
  },
  {
   "cell_type": "code",
   "execution_count": 72,
   "metadata": {},
   "outputs": [
    {
     "data": {
      "text/plain": [
       "KNeighborsClassifier(algorithm='auto', leaf_size=30, metric='minkowski',\n",
       "           metric_params=None, n_jobs=None, n_neighbors=3, p=2,\n",
       "           weights='uniform')"
      ]
     },
     "execution_count": 72,
     "metadata": {},
     "output_type": "execute_result"
    }
   ],
   "source": [
    "knn.fit(X_train, y_train)"
   ]
  },
  {
   "cell_type": "code",
   "execution_count": 63,
   "metadata": {},
   "outputs": [],
   "source": [
    "y_pred_class = knn.predict(X_test)"
   ]
  },
  {
   "cell_type": "code",
   "execution_count": 64,
   "metadata": {},
   "outputs": [
    {
     "name": "stdout",
     "output_type": "stream",
     "text": [
      "0.8452380952380952\n"
     ]
    }
   ],
   "source": [
    "from sklearn import metrics\n",
    "print(metrics.accuracy_score(y_test, y_pred_class))"
   ]
  },
  {
   "cell_type": "code",
   "execution_count": 65,
   "metadata": {},
   "outputs": [
    {
     "data": {
      "text/plain": [
       "0.8452380952380952"
      ]
     },
     "execution_count": 65,
     "metadata": {},
     "output_type": "execute_result"
    }
   ],
   "source": [
    "knn.score(X_test, y_test)"
   ]
  },
  {
   "cell_type": "code",
   "execution_count": 66,
   "metadata": {},
   "outputs": [
    {
     "data": {
      "text/plain": [
       "0.874251497005988"
      ]
     },
     "execution_count": 66,
     "metadata": {},
     "output_type": "execute_result"
    }
   ],
   "source": [
    "knn.score(X_train, y_train)"
   ]
  },
  {
   "cell_type": "code",
   "execution_count": 97,
   "metadata": {
    "scrolled": true
   },
   "outputs": [
    {
     "name": "stdout",
     "output_type": "stream",
     "text": [
      "              precision    recall  f1-score   support\n",
      "\n",
      "        high       0.85      0.90      0.88        83\n",
      "         low       0.75      0.43      0.55        14\n",
      "    moderate       0.85      0.86      0.85        71\n",
      "\n",
      "   micro avg       0.85      0.85      0.85       168\n",
      "   macro avg       0.82      0.73      0.76       168\n",
      "weighted avg       0.84      0.85      0.84       168\n",
      "\n"
     ]
    }
   ],
   "source": [
    "print(classification_report(y_test, y_pred_class))"
   ]
  },
  {
   "cell_type": "markdown",
   "metadata": {},
   "source": [
    "### Decision tree classifier"
   ]
  },
  {
   "cell_type": "code",
   "execution_count": 73,
   "metadata": {},
   "outputs": [],
   "source": [
    "#rf = RandomForest(n_estimators=1000, max_depth=None, max_features='auto')\n",
    "Xtrain, Xtest, ytrain, ytest = train_test_split(Xs, y, test_size=0.33, random_state=42)\n",
    "\n",
    "dt = DecisionTreeClassifier(max_depth=None, max_features='auto')"
   ]
  },
  {
   "cell_type": "code",
   "execution_count": 74,
   "metadata": {},
   "outputs": [],
   "source": [
    "model = dt.fit(Xtrain, ytrain)"
   ]
  },
  {
   "cell_type": "code",
   "execution_count": 75,
   "metadata": {},
   "outputs": [],
   "source": [
    "ypred = model.predict(Xtest)"
   ]
  },
  {
   "cell_type": "code",
   "execution_count": 76,
   "metadata": {},
   "outputs": [
    {
     "data": {
      "text/plain": [
       "array([3.15266641e-03, 2.08976764e-02, 0.00000000e+00, 3.56434392e-05,\n",
       "       2.44383156e-02, 1.05504119e-02, 0.00000000e+00, 1.20053852e-02,\n",
       "       0.00000000e+00, 1.42115218e-02, 1.29192630e-02, 1.66657383e-02,\n",
       "       1.49963721e-01, 3.93380803e-02, 1.47202330e-02, 1.41236620e-01,\n",
       "       1.09190806e-01, 3.05364945e-02, 6.80929593e-02, 4.53561787e-02,\n",
       "       1.09235426e-01, 1.77452859e-01])"
      ]
     },
     "execution_count": 76,
     "metadata": {},
     "output_type": "execute_result"
    }
   ],
   "source": [
    "model.feature_importances_"
   ]
  },
  {
   "cell_type": "code",
   "execution_count": 77,
   "metadata": {},
   "outputs": [
    {
     "name": "stdout",
     "output_type": "stream",
     "text": [
      "('dtc acc:', 0.8461538461538461)\n"
     ]
    }
   ],
   "source": [
    "print(('dtc acc:', model.score(Xtest, ytest)))"
   ]
  },
  {
   "cell_type": "code",
   "execution_count": 78,
   "metadata": {},
   "outputs": [
    {
     "name": "stdout",
     "output_type": "stream",
     "text": [
      "Accuracy is: 84.61538461538461\n"
     ]
    }
   ],
   "source": [
    "print('Accuracy is:',accuracy_score(ytest, ypred)*100)"
   ]
  },
  {
   "cell_type": "code",
   "execution_count": 79,
   "metadata": {},
   "outputs": [
    {
     "data": {
      "text/html": [
       "<div>\n",
       "<style scoped>\n",
       "    .dataframe tbody tr th:only-of-type {\n",
       "        vertical-align: middle;\n",
       "    }\n",
       "\n",
       "    .dataframe tbody tr th {\n",
       "        vertical-align: top;\n",
       "    }\n",
       "\n",
       "    .dataframe thead th {\n",
       "        text-align: right;\n",
       "    }\n",
       "</style>\n",
       "<table border=\"1\" class=\"dataframe\">\n",
       "  <thead>\n",
       "    <tr style=\"text-align: right;\">\n",
       "      <th></th>\n",
       "      <th>feature</th>\n",
       "      <th>importance</th>\n",
       "    </tr>\n",
       "  </thead>\n",
       "  <tbody>\n",
       "    <tr>\n",
       "      <th>21</th>\n",
       "      <td>job_role_dataengineer</td>\n",
       "      <td>0.177453</td>\n",
       "    </tr>\n",
       "    <tr>\n",
       "      <th>12</th>\n",
       "      <td>job_type_Full Time</td>\n",
       "      <td>0.149964</td>\n",
       "    </tr>\n",
       "    <tr>\n",
       "      <th>15</th>\n",
       "      <td>job_role_DA</td>\n",
       "      <td>0.141237</td>\n",
       "    </tr>\n",
       "    <tr>\n",
       "      <th>20</th>\n",
       "      <td>job_role_consultant</td>\n",
       "      <td>0.109235</td>\n",
       "    </tr>\n",
       "    <tr>\n",
       "      <th>16</th>\n",
       "      <td>job_role_DS</td>\n",
       "      <td>0.109191</td>\n",
       "    </tr>\n",
       "  </tbody>\n",
       "</table>\n",
       "</div>"
      ],
      "text/plain": [
       "                  feature  importance\n",
       "21  job_role_dataengineer    0.177453\n",
       "12     job_type_Full Time    0.149964\n",
       "15            job_role_DA    0.141237\n",
       "20    job_role_consultant    0.109235\n",
       "16            job_role_DS    0.109191"
      ]
     },
     "execution_count": 79,
     "metadata": {},
     "output_type": "execute_result"
    }
   ],
   "source": [
    "DTF = pd.DataFrame({\n",
    "        'feature':X.columns,\n",
    "        'importance':model.feature_importances_\n",
    "    })\n",
    "\n",
    "DTF.sort_values('importance', ascending=False, inplace=True)\n",
    "DTF.head()"
   ]
  },
  {
   "cell_type": "code",
   "execution_count": 82,
   "metadata": {},
   "outputs": [
    {
     "data": {
      "text/plain": [
       "<matplotlib.axes._subplots.AxesSubplot at 0x1f21e44e438>"
      ]
     },
     "execution_count": 82,
     "metadata": {},
     "output_type": "execute_result"
    },
    {
     "data": {
      "image/png": "[encoded data removed]",
      "text/plain": [
       "<Figure size 432x288 with 1 Axes>"
      ]
     },
     "metadata": {
      "needs_background": "light"
     },
     "output_type": "display_data"
    }
   ],
   "source": [
    "DTF.plot(kind='barh')"
   ]
  },
  {
   "cell_type": "markdown",
   "metadata": {},
   "source": [
    "### Random forest classifier"
   ]
  },
  {
   "cell_type": "code",
   "execution_count": 83,
   "metadata": {},
   "outputs": [],
   "source": [
    "from sklearn.ensemble import RandomForestClassifier\n",
    "\n",
    "rf =RandomForestClassifier()"
   ]
  },
  {
   "cell_type": "code",
   "execution_count": 84,
   "metadata": {},
   "outputs": [
    {
     "name": "stderr",
     "output_type": "stream",
     "text": [
      "C:\\Users\\anita\\Anaconda3\\lib\\site-packages\\sklearn\\ensemble\\forest.py:246: FutureWarning: The default value of n_estimators will change from 10 in version 0.20 to 100 in 0.22.\n",
      "  \"10 in version 0.20 to 100 in 0.22.\", FutureWarning)\n"
     ]
    },
    {
     "data": {
      "text/plain": [
       "RandomForestClassifier(bootstrap=True, class_weight=None, criterion='gini',\n",
       "            max_depth=None, max_features='auto', max_leaf_nodes=None,\n",
       "            min_impurity_decrease=0.0, min_impurity_split=None,\n",
       "            min_samples_leaf=1, min_samples_split=2,\n",
       "            min_weight_fraction_leaf=0.0, n_estimators=10, n_jobs=None,\n",
       "            oob_score=False, random_state=None, verbose=0,\n",
       "            warm_start=False)"
      ]
     },
     "execution_count": 84,
     "metadata": {},
     "output_type": "execute_result"
    }
   ],
   "source": [
    "rf.fit(Xtrain, ytrain)"
   ]
  },
  {
   "cell_type": "code",
   "execution_count": 85,
   "metadata": {},
   "outputs": [],
   "source": [
    "pred = rf.predict(Xtest)"
   ]
  },
  {
   "cell_type": "code",
   "execution_count": 86,
   "metadata": {},
   "outputs": [
    {
     "name": "stdout",
     "output_type": "stream",
     "text": [
      "Accuracy score is: 0.8642533936651584\n"
     ]
    }
   ],
   "source": [
    "print('Accuracy score is:', rf.score(Xtest, ytest))"
   ]
  },
  {
   "cell_type": "code",
   "execution_count": 87,
   "metadata": {},
   "outputs": [
    {
     "data": {
      "text/plain": [
       "0.8642533936651584"
      ]
     },
     "execution_count": 87,
     "metadata": {},
     "output_type": "execute_result"
    }
   ],
   "source": [
    "metrics.accuracy_score(ytest, pred)"
   ]
  },
  {
   "cell_type": "code",
   "execution_count": 88,
   "metadata": {},
   "outputs": [
    {
     "data": {
      "text/html": [
       "<div>\n",
       "<style scoped>\n",
       "    .dataframe tbody tr th:only-of-type {\n",
       "        vertical-align: middle;\n",
       "    }\n",
       "\n",
       "    .dataframe tbody tr th {\n",
       "        vertical-align: top;\n",
       "    }\n",
       "\n",
       "    .dataframe thead th {\n",
       "        text-align: right;\n",
       "    }\n",
       "</style>\n",
       "<table border=\"1\" class=\"dataframe\">\n",
       "  <thead>\n",
       "    <tr style=\"text-align: right;\">\n",
       "      <th></th>\n",
       "      <th>feature</th>\n",
       "      <th>importance</th>\n",
       "    </tr>\n",
       "  </thead>\n",
       "  <tbody>\n",
       "    <tr>\n",
       "      <th>12</th>\n",
       "      <td>job_type_Full Time</td>\n",
       "      <td>0.142905</td>\n",
       "    </tr>\n",
       "    <tr>\n",
       "      <th>21</th>\n",
       "      <td>job_role_dataengineer</td>\n",
       "      <td>0.134235</td>\n",
       "    </tr>\n",
       "    <tr>\n",
       "      <th>15</th>\n",
       "      <td>job_role_DA</td>\n",
       "      <td>0.112752</td>\n",
       "    </tr>\n",
       "    <tr>\n",
       "      <th>20</th>\n",
       "      <td>job_role_consultant</td>\n",
       "      <td>0.102407</td>\n",
       "    </tr>\n",
       "    <tr>\n",
       "      <th>17</th>\n",
       "      <td>job_role_SBI</td>\n",
       "      <td>0.094635</td>\n",
       "    </tr>\n",
       "  </tbody>\n",
       "</table>\n",
       "</div>"
      ],
      "text/plain": [
       "                  feature  importance\n",
       "12     job_type_Full Time    0.142905\n",
       "21  job_role_dataengineer    0.134235\n",
       "15            job_role_DA    0.112752\n",
       "20    job_role_consultant    0.102407\n",
       "17           job_role_SBI    0.094635"
      ]
     },
     "execution_count": 88,
     "metadata": {},
     "output_type": "execute_result"
    }
   ],
   "source": [
    "features = pd.DataFrame({\n",
    "        'feature':X.columns,\n",
    "        'importance':rf.feature_importances_\n",
    "    })\n",
    "\n",
    "features.sort_values('importance', ascending=False, inplace=True)\n",
    "features.head()"
   ]
  },
  {
   "cell_type": "markdown",
   "metadata": {},
   "source": [
    "### Summary"
   ]
  },
  {
   "cell_type": "code",
   "execution_count": null,
   "metadata": {},
   "outputs": [],
   "source": []
  }
 ],
 "metadata": {
  "kernelspec": {
   "display_name": "Python 3",
   "language": "python",
   "name": "python3"
  },
  "language_info": {
   "codemirror_mode": {
    "name": "ipython",
    "version": 3
   },
   "file_extension": ".py",
   "mimetype": "text/x-python",
   "name": "python",
   "nbconvert_exporter": "python",
   "pygments_lexer": "ipython3",
   "version": "3.7.1"
  }
 },
 "nbformat": 4,
 "nbformat_minor": 2
}
