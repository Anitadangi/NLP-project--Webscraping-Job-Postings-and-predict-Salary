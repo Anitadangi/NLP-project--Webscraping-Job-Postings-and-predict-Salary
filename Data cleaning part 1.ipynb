{
 "cells": [
  {
   "cell_type": "code",
   "execution_count": 439,
   "metadata": {},
   "outputs": [],
   "source": [
    "import pandas as pd\n",
    "import numpy as np\n",
    "import matplotlib.pyplot as plt\n",
    "%matplotlib inline\n",
    "import seaborn as sns\n",
    "import re"
   ]
  },
  {
   "cell_type": "code",
   "execution_count": 531,
   "metadata": {},
   "outputs": [],
   "source": [
    "df= pd.read_csv('Job_titles_to_clean.csv')"
   ]
  },
  {
   "cell_type": "markdown",
   "metadata": {},
   "source": [
    "### Regular expressions to clean the salary column"
   ]
  },
  {
   "cell_type": "code",
   "execution_count": null,
   "metadata": {},
   "outputs": [],
   "source": [
    "def clean_salary(salary):\n",
    "    pattern = re.compile(\".*\\$\\s*([\\d,]+).*\\$\\s*([\\d,]+)\")\n",
    "    matches = re.match(pattern, salary)\n",
    "    if matches:\n",
    "        salaries = [int(x.replace(',','')) for x in matches.groups()]\n",
    "        return np.average(salaries)\n",
    "    else:\n",
    "        pattern = re.compile(\".*\\$\\s*([\\d,]+)\")\n",
    "        matches = re.match(pattern, salary)\n",
    "        if matches:\n",
    "            return float(matches.group(1).replace(',',''))\n",
    "        else:\n",
    "            return None\n",
    "\n",
    "df['clean_salary'] = df.salary.map(lambda x: clean_salary(x))"
   ]
  },
  {
   "cell_type": "code",
   "execution_count": 532,
   "metadata": {},
   "outputs": [],
   "source": [
    "df.clean_salary.replace(to_replace = 160.0 , value = 165000, inplace=True)"
   ]
  },
  {
   "cell_type": "code",
   "execution_count": 533,
   "metadata": {},
   "outputs": [],
   "source": [
    "df['job_title'] = df['job_title'].map(lambda x: x if type(x)!=str else x.lower())"
   ]
  },
  {
   "cell_type": "markdown",
   "metadata": {},
   "source": [
    "### Categorising job titles using regular expressions"
   ]
  },
  {
   "cell_type": "code",
   "execution_count": 534,
   "metadata": {},
   "outputs": [],
   "source": [
    "def clean_text(text):\n",
    "    pat = re.compile('.*analy(tics|st)+.*')\n",
    "    matches = re.match(pat, text)\n",
    "    if matches:\n",
    "        return 'analyst'\n",
    "    else:\n",
    "        return None"
   ]
  },
  {
   "cell_type": "code",
   "execution_count": 535,
   "metadata": {},
   "outputs": [],
   "source": [
    "df['analyst'] = df.job_title.map(lambda x: clean_text(x))"
   ]
  },
  {
   "cell_type": "code",
   "execution_count": 536,
   "metadata": {},
   "outputs": [],
   "source": [
    "def clean_text2(text):\n",
    "    pat = re.compile('.*data\\sscien(ce|tist)+')\n",
    "    matches = re.match(pat, text)\n",
    "    if matches:\n",
    "        return 'data scientist'\n",
    "    else:\n",
    "        return None"
   ]
  },
  {
   "cell_type": "code",
   "execution_count": 538,
   "metadata": {},
   "outputs": [],
   "source": [
    "df['data_scientist']=df.job_title.map(lambda x: clean_text2(x))"
   ]
  },
  {
   "cell_type": "code",
   "execution_count": 540,
   "metadata": {},
   "outputs": [
    {
     "data": {
      "text/plain": [
       "data scientist    131\n",
       "Name: data_scientist, dtype: int64"
      ]
     },
     "execution_count": 540,
     "metadata": {},
     "output_type": "execute_result"
    }
   ],
   "source": [
    "df.data_scientist.value_counts()"
   ]
  },
  {
   "cell_type": "code",
   "execution_count": 541,
   "metadata": {},
   "outputs": [
    {
     "data": {
      "text/plain": [
       "analyst    196\n",
       "Name: analyst, dtype: int64"
      ]
     },
     "execution_count": 541,
     "metadata": {},
     "output_type": "execute_result"
    }
   ],
   "source": [
    "df.analyst.value_counts()"
   ]
  },
  {
   "cell_type": "code",
   "execution_count": 542,
   "metadata": {
    "collapsed": true
   },
   "outputs": [
    {
     "data": {
      "text/plain": [
       "data scientist                                                                 36\n",
       "senior data scientist                                                          16\n",
       "business analyst                                                               12\n",
       "business intelligence developer                                                11\n",
       "software engineer                                                               9\n",
       "bi developer                                                                    7\n",
       "business intelligence analyst                                                   7\n",
       "data engineer                                                                   7\n",
       "data analyst                                                                    6\n",
       "business intelligence lead                                                      6\n",
       "postdoctoral research fellow                                                    4\n",
       "senior data analyst                                                             4\n",
       "big data engineer                                                               4\n",
       "senior business intelligence analyst                                            4\n",
       "fujitsu 2020 graduate program - it graduates                                    3\n",
       "engineer                                                                        3\n",
       "report developer                                                                3\n",
       "data science lead                                                               3\n",
       "test analyst                                                                    3\n",
       "senior software engineer                                                        3\n",
       "research fellow                                                                 3\n",
       "senior modelling analyst                                                        3\n",
       "software developer                                                              3\n",
       "senior data engineer                                                            2\n",
       "msbi developer                                                                  2\n",
       "business intelligence consultant / lead                                         2\n",
       "senior bi developer                                                             2\n",
       "business intelligence manager                                                   2\n",
       "business intelligence leads x 3 - sas, sql, sharepoint - federal government     2\n",
       "account manager - global big data vendor                                        2\n",
       "                                                                               ..\n",
       "senior front end developer                                                      1\n",
       "data analytics / insight specialist | sas/sql/java                              1\n",
       "lead data engineer - greenfield data platform, exciting projects                1\n",
       "analytics manager                                                               1\n",
       "data scientist - 6 months contract                                              1\n",
       "speech to text developer                                                        1\n",
       "head of product/growth                                                          1\n",
       "sap business intelligence analyst                                               1\n",
       "research engineering lead                                                       1\n",
       "data analytics consultant                                                       1\n",
       "senior web developer                                                            1\n",
       "primary tutors - work from home (casual)                                        1\n",
       "technical support engineer                                                      1\n",
       "data warehouse engineer                                                         1\n",
       "digital marketing manager                                                       1\n",
       "voice to text developer                                                         1\n",
       "software engineers- stelarlab adelaide                                          1\n",
       "business intellegience analyst                                                  1\n",
       "oracle developer - 12 month contract                                            1\n",
       "data scientist | developer                                                      1\n",
       "integration specialist - it                                                     1\n",
       "frontend developer                                                              1\n",
       "customer success engineer                                                       1\n",
       "senior aws big data engineer                                                    1\n",
       "project engineer                                                                1\n",
       "manager, data warehouse & business intelligence (dw & bi)                       1\n",
       "senior sap data services consultant - new zealand                               1\n",
       "insights analyst - technical translator                                         1\n",
       "mid level ruby on rails developer | reactjs | innovative tech product           1\n",
       "business analyst | business intelligence                                        1\n",
       "Name: job_title, Length: 664, dtype: int64"
      ]
     },
     "execution_count": 542,
     "metadata": {},
     "output_type": "execute_result"
    }
   ],
   "source": [
    "df.job_title.value_counts()"
   ]
  },
  {
   "cell_type": "markdown",
   "metadata": {},
   "source": [
    "### Senior role"
   ]
  },
  {
   "cell_type": "code",
   "execution_count": 537,
   "metadata": {},
   "outputs": [],
   "source": [
    "#df['senior_role'] = df['job_title'].str.contains('lead') | df['job_title'].str.contains('senior')"
   ]
  },
  {
   "cell_type": "code",
   "execution_count": null,
   "metadata": {},
   "outputs": [],
   "source": [
    "df['senior_role'] = (\n",
    "    df['job_title'].str.contains('lead') | \n",
    "    df['job_title'].str.contains('senior') | \n",
    "    df['job_title'].str.contains('head') |\n",
    "    df['job_title'].str.contains('director')    \n",
    ")"
   ]
  },
  {
   "cell_type": "markdown",
   "metadata": {},
   "source": [
    "### Categorising salary rates"
   ]
  },
  {
   "cell_type": "code",
   "execution_count": 539,
   "metadata": {},
   "outputs": [],
   "source": [
    "per_day_pats = ['(per\\s+)?day', 'p\\.?d']\n",
    "per_hour_pats = ['(per\\s)?hour','p[\\s\\.]?h']"
   ]
  },
  {
   "cell_type": "code",
   "execution_count": 543,
   "metadata": {},
   "outputs": [],
   "source": [
    "def categorise_salary(num):\n",
    "    matches = any([re.match(re.compile('.*' + pat), str(num)) for pat in per_day_pats])\n",
    "    if matches:\n",
    "        return 'daily'\n",
    "    matches = any([re.match(re.compile('.*' + pat), str(num)) for pat in per_hour_pats])\n",
    "    if matches:\n",
    "        return 'hourly'\n",
    "    return 'annual'"
   ]
  },
  {
   "cell_type": "code",
   "execution_count": 544,
   "metadata": {},
   "outputs": [],
   "source": [
    "df['pay_type'] = df.salary.map(lambda x: categorise_salary(x))"
   ]
  },
  {
   "cell_type": "code",
   "execution_count": 545,
   "metadata": {},
   "outputs": [
    {
     "data": {
      "text/plain": [
       "annual    779\n",
       "daily      39\n",
       "hourly     21\n",
       "Name: pay_type, dtype: int64"
      ]
     },
     "execution_count": 545,
     "metadata": {},
     "output_type": "execute_result"
    }
   ],
   "source": [
    "df.pay_type.value_counts(dropna=False)"
   ]
  },
  {
   "cell_type": "code",
   "execution_count": 549,
   "metadata": {},
   "outputs": [],
   "source": [
    "#df.drop(['salary'], axis=1, inplace=True)\n",
    "df.drop(['index','salary'], axis=1, inplace=True)"
   ]
  },
  {
   "cell_type": "markdown",
   "metadata": {},
   "source": [
    "### Converting salary into annual rate"
   ]
  },
  {
   "cell_type": "code",
   "execution_count": 579,
   "metadata": {},
   "outputs": [],
   "source": [
    "def salary_multiplier(pay_type):\n",
    "    if pay_type == 'daily':\n",
    "        return 250\n",
    "    elif pay_type == 'hourly':\n",
    "        return 8*250\n",
    "    else:\n",
    "        return 1"
   ]
  },
  {
   "cell_type": "code",
   "execution_count": 580,
   "metadata": {},
   "outputs": [],
   "source": [
    "df['multiplier'] = df.pay_type.map(salary_multiplier)"
   ]
  },
  {
   "cell_type": "code",
   "execution_count": 581,
   "metadata": {},
   "outputs": [],
   "source": [
    "df['salary'] = df.clean_salary * df.multiplier"
   ]
  },
  {
   "cell_type": "code",
   "execution_count": 582,
   "metadata": {},
   "outputs": [],
   "source": [
    "df.drop(['clean_salary','multiplier'], axis=1, inplace=True)"
   ]
  },
  {
   "cell_type": "code",
   "execution_count": 583,
   "metadata": {
    "collapsed": true
   },
   "outputs": [
    {
     "data": {
      "text/html": [
       "<div>\n",
       "<style scoped>\n",
       "    .dataframe tbody tr th:only-of-type {\n",
       "        vertical-align: middle;\n",
       "    }\n",
       "\n",
       "    .dataframe tbody tr th {\n",
       "        vertical-align: top;\n",
       "    }\n",
       "\n",
       "    .dataframe thead th {\n",
       "        text-align: right;\n",
       "    }\n",
       "</style>\n",
       "<table border=\"1\" class=\"dataframe\">\n",
       "  <thead>\n",
       "    <tr style=\"text-align: right;\">\n",
       "      <th></th>\n",
       "      <th>job_title</th>\n",
       "      <th>location</th>\n",
       "      <th>company</th>\n",
       "      <th>class</th>\n",
       "      <th>job_type</th>\n",
       "      <th>description</th>\n",
       "      <th>analyst</th>\n",
       "      <th>senior_role</th>\n",
       "      <th>data_scientist</th>\n",
       "      <th>pay_type</th>\n",
       "      <th>salary</th>\n",
       "    </tr>\n",
       "  </thead>\n",
       "  <tbody>\n",
       "    <tr>\n",
       "      <th>0</th>\n",
       "      <td>data scientist | smart cities</td>\n",
       "      <td>Sydney</td>\n",
       "      <td>Talenza</td>\n",
       "      <td>Science &amp; Healthcare</td>\n",
       "      <td>Contract/Temp</td>\n",
       "      <td>\\r\\r\\nTalenza has been engaged by an Icon Aust...</td>\n",
       "      <td>None</td>\n",
       "      <td>False</td>\n",
       "      <td>data scientist</td>\n",
       "      <td>daily</td>\n",
       "      <td>262500.0</td>\n",
       "    </tr>\n",
       "    <tr>\n",
       "      <th>1</th>\n",
       "      <td>data scientist l machine learning engineer l $...</td>\n",
       "      <td>Sydney</td>\n",
       "      <td>NaN</td>\n",
       "      <td>Information &amp; Communication Technology</td>\n",
       "      <td>Full Time</td>\n",
       "      <td>Great team environment/ office space Perman...</td>\n",
       "      <td>None</td>\n",
       "      <td>False</td>\n",
       "      <td>data scientist</td>\n",
       "      <td>annual</td>\n",
       "      <td>154999.5</td>\n",
       "    </tr>\n",
       "    <tr>\n",
       "      <th>2</th>\n",
       "      <td>data scientist</td>\n",
       "      <td>Melbourne</td>\n",
       "      <td>FourQuarters Recruitment</td>\n",
       "      <td>Information &amp; Communication Technology</td>\n",
       "      <td>Full Time</td>\n",
       "      <td>Data Scientist | Melbourne CBD | Permanent\\r\\r...</td>\n",
       "      <td>None</td>\n",
       "      <td>False</td>\n",
       "      <td>data scientist</td>\n",
       "      <td>annual</td>\n",
       "      <td>NaN</td>\n",
       "    </tr>\n",
       "    <tr>\n",
       "      <th>3</th>\n",
       "      <td>lead data scientist | python | machine learning</td>\n",
       "      <td>Sydney</td>\n",
       "      <td>Talenza</td>\n",
       "      <td>Science &amp; Healthcare</td>\n",
       "      <td>Contract/Temp</td>\n",
       "      <td>\\r\\r\\nTalenza has been engaged by industry lea...</td>\n",
       "      <td>None</td>\n",
       "      <td>True</td>\n",
       "      <td>data scientist</td>\n",
       "      <td>daily</td>\n",
       "      <td>356250.0</td>\n",
       "    </tr>\n",
       "    <tr>\n",
       "      <th>4</th>\n",
       "      <td>data scientist</td>\n",
       "      <td>Sydney</td>\n",
       "      <td>Greythorn Experis</td>\n",
       "      <td>Information &amp; Communication Technology</td>\n",
       "      <td>Contract/Temp</td>\n",
       "      <td>\\r\\r\\n\\r\\r\\n\\r\\r\\nHands-on experience with com...</td>\n",
       "      <td>None</td>\n",
       "      <td>False</td>\n",
       "      <td>data scientist</td>\n",
       "      <td>annual</td>\n",
       "      <td>NaN</td>\n",
       "    </tr>\n",
       "  </tbody>\n",
       "</table>\n",
       "</div>"
      ],
      "text/plain": [
       "                                           job_title   location  \\\n",
       "0                      data scientist | smart cities     Sydney   \n",
       "1  data scientist l machine learning engineer l $...     Sydney   \n",
       "2                                     data scientist  Melbourne   \n",
       "3    lead data scientist | python | machine learning     Sydney   \n",
       "4                                     data scientist     Sydney   \n",
       "\n",
       "                    company                                   class  \\\n",
       "0                   Talenza                    Science & Healthcare   \n",
       "1                       NaN  Information & Communication Technology   \n",
       "2  FourQuarters Recruitment  Information & Communication Technology   \n",
       "3                   Talenza                    Science & Healthcare   \n",
       "4         Greythorn Experis  Information & Communication Technology   \n",
       "\n",
       "        job_type                                        description analyst  \\\n",
       "0  Contract/Temp  \\r\\r\\nTalenza has been engaged by an Icon Aust...    None   \n",
       "1      Full Time     Great team environment/ office space Perman...    None   \n",
       "2      Full Time  Data Scientist | Melbourne CBD | Permanent\\r\\r...    None   \n",
       "3  Contract/Temp  \\r\\r\\nTalenza has been engaged by industry lea...    None   \n",
       "4  Contract/Temp  \\r\\r\\n\\r\\r\\n\\r\\r\\nHands-on experience with com...    None   \n",
       "\n",
       "   senior_role  data_scientist pay_type    salary  \n",
       "0        False  data scientist    daily  262500.0  \n",
       "1        False  data scientist   annual  154999.5  \n",
       "2        False  data scientist   annual       NaN  \n",
       "3         True  data scientist    daily  356250.0  \n",
       "4        False  data scientist   annual       NaN  "
      ]
     },
     "execution_count": 583,
     "metadata": {},
     "output_type": "execute_result"
    }
   ],
   "source": [
    "df.head()"
   ]
  },
  {
   "cell_type": "markdown",
   "metadata": {},
   "source": [
    "### Median salary values "
   ]
  },
  {
   "cell_type": "code",
   "execution_count": 584,
   "metadata": {},
   "outputs": [
    {
     "data": {
      "text/plain": [
       "analyst\n",
       "analyst    125000.0\n",
       "Name: salary, dtype: float64"
      ]
     },
     "execution_count": 584,
     "metadata": {},
     "output_type": "execute_result"
    }
   ],
   "source": [
    "df.groupby(['analyst'])['salary'].median()"
   ]
  },
  {
   "cell_type": "code",
   "execution_count": 585,
   "metadata": {},
   "outputs": [
    {
     "data": {
      "text/plain": [
       "data_scientist\n",
       "data scientist    150000.0\n",
       "Name: salary, dtype: float64"
      ]
     },
     "execution_count": 585,
     "metadata": {},
     "output_type": "execute_result"
    }
   ],
   "source": [
    "df.groupby(['data_scientist'])['salary'].median()"
   ]
  },
  {
   "cell_type": "code",
   "execution_count": 586,
   "metadata": {},
   "outputs": [
    {
     "data": {
      "text/plain": [
       "senior_role\n",
       "False    130000.0\n",
       "True     140000.0\n",
       "Name: salary, dtype: float64"
      ]
     },
     "execution_count": 586,
     "metadata": {},
     "output_type": "execute_result"
    }
   ],
   "source": [
    "df.groupby(['senior_role'])['salary'].median()"
   ]
  },
  {
   "cell_type": "code",
   "execution_count": 498,
   "metadata": {
    "collapsed": true
   },
   "outputs": [
    {
     "data": {
      "text/plain": [
       "NaN          590\n",
       " 140000.0     14\n",
       " 150000.0     13\n",
       " 200000.0     11\n",
       " 135000.0      9\n",
       " 125000.0      8\n",
       " 115000.0      8\n",
       " 110000.0      8\n",
       " 130000.0      8\n",
       " 120000.0      7\n",
       " 100000.0      6\n",
       " 175000.0      5\n",
       " 160000.0      4\n",
       " 212500.0      4\n",
       " 225000.0      4\n",
       " 180000.0      4\n",
       " 122500.0      3\n",
       " 105000.0      3\n",
       " 154999.5      3\n",
       " 350000.0      2\n",
       " 106316.0      2\n",
       " 168750.0      2\n",
       " 86000.0       2\n",
       " 128185.0      2\n",
       " 77499.5       2\n",
       " 230000.0      2\n",
       " 79262.0       2\n",
       " 80000.0       2\n",
       " 90000.0       2\n",
       " 215000.0      2\n",
       "            ... \n",
       " 1450.0        1\n",
       " 92500.0       1\n",
       " 248750.0      1\n",
       " 356250.0      1\n",
       " 87000.0       1\n",
       " 118750.0      1\n",
       " 200125.0      1\n",
       " 105055.0      1\n",
       " 100065.0      1\n",
       " 82499.5       1\n",
       " 188550.0      1\n",
       " 123074.5      1\n",
       " 95000.0       1\n",
       " 109999.5      1\n",
       " 104687.0      1\n",
       " 325000.0      1\n",
       " 91520.5       1\n",
       " 187500.0      1\n",
       " 75000.0       1\n",
       " 75062.5       1\n",
       " 145000.0      1\n",
       " 67500.0       1\n",
       " 155000.0      1\n",
       " 83646.0       1\n",
       " 59999.5       1\n",
       " 80191.5       1\n",
       " 113369.0      1\n",
       " 700.0         1\n",
       " 850.0         1\n",
       " 88500.0       1\n",
       "Name: salary, Length: 112, dtype: int64"
      ]
     },
     "execution_count": 498,
     "metadata": {},
     "output_type": "execute_result"
    }
   ],
   "source": [
    "df.salary.value_counts(dropna=False)"
   ]
  },
  {
   "cell_type": "code",
   "execution_count": 500,
   "metadata": {},
   "outputs": [
    {
     "data": {
      "text/plain": [
       "(822, 11)"
      ]
     },
     "execution_count": 500,
     "metadata": {},
     "output_type": "execute_result"
    }
   ],
   "source": [
    "df.shape"
   ]
  },
  {
   "cell_type": "code",
   "execution_count": 588,
   "metadata": {},
   "outputs": [
    {
     "data": {
      "text/html": [
       "<div>\n",
       "<style scoped>\n",
       "    .dataframe tbody tr th:only-of-type {\n",
       "        vertical-align: middle;\n",
       "    }\n",
       "\n",
       "    .dataframe tbody tr th {\n",
       "        vertical-align: top;\n",
       "    }\n",
       "\n",
       "    .dataframe thead th {\n",
       "        text-align: right;\n",
       "    }\n",
       "</style>\n",
       "<table border=\"1\" class=\"dataframe\">\n",
       "  <thead>\n",
       "    <tr style=\"text-align: right;\">\n",
       "      <th></th>\n",
       "      <th>job_title</th>\n",
       "      <th>location</th>\n",
       "      <th>company</th>\n",
       "      <th>class</th>\n",
       "      <th>job_type</th>\n",
       "      <th>description</th>\n",
       "      <th>analyst</th>\n",
       "      <th>senior_role</th>\n",
       "      <th>data_scientist</th>\n",
       "      <th>pay_type</th>\n",
       "      <th>salary</th>\n",
       "    </tr>\n",
       "  </thead>\n",
       "  <tbody>\n",
       "    <tr>\n",
       "      <th>817</th>\n",
       "      <td>solutions architect (active directory &amp; azure)</td>\n",
       "      <td>Perth</td>\n",
       "      <td>FinXL IT Professional Services</td>\n",
       "      <td>Information &amp; Communication Technology</td>\n",
       "      <td>Full Time</td>\n",
       "      <td>\\r\\r\\nThe CompanyThis is a fantastic opportuni...</td>\n",
       "      <td>None</td>\n",
       "      <td>False</td>\n",
       "      <td>None</td>\n",
       "      <td>annual</td>\n",
       "      <td>NaN</td>\n",
       "    </tr>\n",
       "    <tr>\n",
       "      <th>818</th>\n",
       "      <td>principal data specialist</td>\n",
       "      <td>Sydney</td>\n",
       "      <td>Data Addiction Pty Ltd</td>\n",
       "      <td>Information &amp; Communication Technology</td>\n",
       "      <td>Full Time</td>\n",
       "      <td>Principal Data Specialist In the realms of dat...</td>\n",
       "      <td>None</td>\n",
       "      <td>False</td>\n",
       "      <td>None</td>\n",
       "      <td>annual</td>\n",
       "      <td>140000.0</td>\n",
       "    </tr>\n",
       "    <tr>\n",
       "      <th>819</th>\n",
       "      <td>financial controller</td>\n",
       "      <td>Melbourne</td>\n",
       "      <td>Radisson on Flagstaff Gardens</td>\n",
       "      <td>Financial Services</td>\n",
       "      <td>Full Time</td>\n",
       "      <td>\\r\\r\\nRadisson on Flagstaff Gardens Melbourne ...</td>\n",
       "      <td>None</td>\n",
       "      <td>False</td>\n",
       "      <td>None</td>\n",
       "      <td>annual</td>\n",
       "      <td>NaN</td>\n",
       "    </tr>\n",
       "    <tr>\n",
       "      <th>820</th>\n",
       "      <td>data analytics / bi manager</td>\n",
       "      <td>Melbourne</td>\n",
       "      <td>Aginic</td>\n",
       "      <td>Information &amp; Communication Technology</td>\n",
       "      <td>Full Time</td>\n",
       "      <td>THE COMPANY Aginic is a rapidly growing data s...</td>\n",
       "      <td>analyst</td>\n",
       "      <td>False</td>\n",
       "      <td>None</td>\n",
       "      <td>annual</td>\n",
       "      <td>NaN</td>\n",
       "    </tr>\n",
       "    <tr>\n",
       "      <th>821</th>\n",
       "      <td>business support officer / junior business ana...</td>\n",
       "      <td>Brisbane</td>\n",
       "      <td>Hudson</td>\n",
       "      <td>Information &amp; Communication Technology</td>\n",
       "      <td>Contract/Temp</td>\n",
       "      <td>\\r\\r\\nOur client is a high profile Queensland ...</td>\n",
       "      <td>analyst</td>\n",
       "      <td>False</td>\n",
       "      <td>None</td>\n",
       "      <td>hourly</td>\n",
       "      <td>87000.0</td>\n",
       "    </tr>\n",
       "  </tbody>\n",
       "</table>\n",
       "</div>"
      ],
      "text/plain": [
       "                                             job_title   location  \\\n",
       "817     solutions architect (active directory & azure)      Perth   \n",
       "818                          principal data specialist     Sydney   \n",
       "819                               financial controller  Melbourne   \n",
       "820                        data analytics / bi manager  Melbourne   \n",
       "821  business support officer / junior business ana...   Brisbane   \n",
       "\n",
       "                            company                                   class  \\\n",
       "817  FinXL IT Professional Services  Information & Communication Technology   \n",
       "818          Data Addiction Pty Ltd  Information & Communication Technology   \n",
       "819   Radisson on Flagstaff Gardens                      Financial Services   \n",
       "820                          Aginic  Information & Communication Technology   \n",
       "821                          Hudson  Information & Communication Technology   \n",
       "\n",
       "          job_type                                        description  \\\n",
       "817      Full Time  \\r\\r\\nThe CompanyThis is a fantastic opportuni...   \n",
       "818      Full Time  Principal Data Specialist In the realms of dat...   \n",
       "819      Full Time  \\r\\r\\nRadisson on Flagstaff Gardens Melbourne ...   \n",
       "820      Full Time  THE COMPANY Aginic is a rapidly growing data s...   \n",
       "821  Contract/Temp  \\r\\r\\nOur client is a high profile Queensland ...   \n",
       "\n",
       "     analyst  senior_role data_scientist pay_type    salary  \n",
       "817     None        False           None   annual       NaN  \n",
       "818     None        False           None   annual  140000.0  \n",
       "819     None        False           None   annual       NaN  \n",
       "820  analyst        False           None   annual       NaN  \n",
       "821  analyst        False           None   hourly   87000.0  "
      ]
     },
     "execution_count": 588,
     "metadata": {},
     "output_type": "execute_result"
    }
   ],
   "source": [
    "df.tail()"
   ]
  },
  {
   "cell_type": "code",
   "execution_count": 590,
   "metadata": {},
   "outputs": [],
   "source": [
    "df.to_csv('almost_cleaned_file.csv',index=False)"
   ]
  }
 ],
 "metadata": {
  "kernelspec": {
   "display_name": "Python 3",
   "language": "python",
   "name": "python3"
  },
  "language_info": {
   "codemirror_mode": {
    "name": "ipython",
    "version": 3
   },
   "file_extension": ".py",
   "mimetype": "text/x-python",
   "name": "python",
   "nbconvert_exporter": "python",
   "pygments_lexer": "ipython3",
   "version": "3.7.1"
  }
 },
 "nbformat": 4,
 "nbformat_minor": 2
}
